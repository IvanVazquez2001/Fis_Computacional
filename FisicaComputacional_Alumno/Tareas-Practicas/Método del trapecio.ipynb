{
 "cells": [
  {
   "cell_type": "markdown",
   "id": "702d966b-e5cf-456b-baee-693ece868919",
   "metadata": {},
   "source": [
    "# Carlos Iván Vázquez Hernández\n",
    "\n",
    "7 de septiembre de 2023"
   ]
  },
  {
   "cell_type": "markdown",
   "id": "a3c09fb9-c682-4652-b459-e1ad61f19dc3",
   "metadata": {},
   "source": [
    "# Método del trapecio"
   ]
  },
  {
   "cell_type": "markdown",
   "id": "e29ef8fd-18a3-410f-9bc1-90a5d693e64d",
   "metadata": {},
   "source": [
    "funciones:\n",
    "$f(x)=sin(x)$\\\\\n",
    "$f(x)=e^{x}$\\\\\n",
    "$f(x)=ln(x)$"
   ]
  },
  {
   "cell_type": "code",
   "execution_count": 1,
   "id": "2f6ba168-801d-4371-87ed-f86e6e3acf6c",
   "metadata": {},
   "outputs": [],
   "source": [
    "import numpy as np\n",
    "import matplotlib.pyplot as plt"
   ]
  },
  {
   "cell_type": "code",
   "execution_count": 2,
   "id": "013847f4-7ae3-463f-9922-c13ddec60797",
   "metadata": {},
   "outputs": [],
   "source": [
    "## hacemos el programa\n",
    "\n",
    "def Trapecio(f,a,b,N):\n",
    "    dx=(b-a)/N\n",
    "    s=(f(a)+f(b))/2\n",
    "    for i in range(1,N):\n",
    "        s+=f(a+i*dx)\n",
    "    return s*dx\n"
   ]
  },
  {
   "cell_type": "code",
   "execution_count": 3,
   "id": "a183e5ce-cee8-4df2-bc89-a66397ce1ceb",
   "metadata": {},
   "outputs": [
    {
     "data": {
      "image/png": "[encoded data removed]",
      "text/plain": [
       "<Figure size 640x480 with 1 Axes>"
      ]
     },
     "metadata": {},
     "output_type": "display_data"
    }
   ],
   "source": [
    "##### FUNCION SIN(X)\n",
    "x=np.linspace(0,np.pi,1000)\n",
    "y=np.sin(x)\n",
    "plt.plot(x,y)\n",
    "plt.hlines(y=0,xmin=0,xmax=np.pi,color='black')\n",
    "plt.grid(True)"
   ]
  },
  {
   "cell_type": "markdown",
   "id": "fd806dc1-c1e7-4732-9906-cd541dfdb7a0",
   "metadata": {},
   "source": [
    "La integral es $F(X)=-cos(x)$"
   ]
  },
  {
   "cell_type": "code",
   "execution_count": 4,
   "id": "d499a1f3-0cc9-4272-94f0-fa839222aa69",
   "metadata": {},
   "outputs": [],
   "source": [
    "### hacemos la funcion coseno\n",
    "def seno(x):\n",
    "    return np.sin(x)"
   ]
  },
  {
   "cell_type": "code",
   "execution_count": 5,
   "id": "9884e422-6000-4da8-be79-6d76f2a5c977",
   "metadata": {},
   "outputs": [
    {
     "data": {
      "text/plain": [
       "1.9999983550656624"
      ]
     },
     "execution_count": 5,
     "metadata": {},
     "output_type": "execute_result"
    }
   ],
   "source": [
    "##### Aplicamos el método numerico\n",
    "Trapecio(seno,0,np.pi,1000)"
   ]
  },
  {
   "cell_type": "markdown",
   "id": "5cfd6430-5d57-49aa-bfab-d5566cc9569d",
   "metadata": {},
   "source": [
    "# Método de simpson"
   ]
  },
  {
   "cell_type": "code",
   "execution_count": 12,
   "id": "536bcedd-66c2-4c4a-8949-44c37749ffe0",
   "metadata": {},
   "outputs": [],
   "source": [
    "def Simpson(f,a,b,N):\n",
    "    h=(b-a)/N\n",
    "    h=h/2\n",
    "    par=0\n",
    "    impar=0\n",
    "    fa=f(a)\n",
    "    fb=f(b)\n",
    "    for i in range(0,N):\n",
    "        impar+=f(a+(2*i+1)*h)\n",
    "    for k in range(0,N-1):\n",
    "        par+=f(a+2*k*h)\n",
    "    par=2*par\n",
    "    impar=4*impar\n",
    "    \n",
    "    integral=(h/3)*(fa+fb+par+impar)\n",
    "    return integral"
   ]
  },
  {
   "cell_type": "code",
   "execution_count": 19,
   "id": "6f47d3b4-6361-4a8c-a944-e63af4723ecc",
   "metadata": {},
   "outputs": [],
   "source": [
    "def funcion1(x):\n",
    "    return (x**4)-(2*x)+1\n",
    "\n",
    "import math\n",
    "def funcion2(x):\n",
    "    return math.exp(-(x**2))"
   ]
  },
  {
   "cell_type": "code",
   "execution_count": 24,
   "id": "c68aa67d-5436-4973-b4e8-65c6ec5033dc",
   "metadata": {},
   "outputs": [
    {
     "name": "stdout",
     "output_type": "stream",
     "text": [
      "4.392039936042924\n",
      "0.8827357489772076\n"
     ]
    }
   ],
   "source": [
    "print(Simpson(funcion1,0,2,1000))\n",
    "print(Simpson(funcion2,0,2,1000))"
   ]
  },
  {
   "cell_type": "markdown",
   "id": "1421cbe7-8322-4b09-b757-e06872a2160d",
   "metadata": {},
   "source": [
    "# POLINOMIOS DE LEGENDRE"
   ]
  },
  {
   "cell_type": "markdown",
   "id": "a0b48cac-5aa6-43bd-af54-98e05da06879",
   "metadata": {},
   "source": [
    "La funcion $x^{2}+4x+2$ en el intervalo $[8,27]$ con $N=3$"
   ]
  },
  {
   "cell_type": "code",
   "execution_count": 4,
   "id": "1e90b84a-5d56-4a6b-b1fa-fdde74b2db98",
   "metadata": {},
   "outputs": [],
   "source": [
    "def f_(x):\n",
    "    return (x**2)+(4*x)+2"
   ]
  },
  {
   "cell_type": "code",
   "execution_count": 13,
   "id": "c0fda333-8ddb-4b50-960f-9e555b385ea6",
   "metadata": {},
   "outputs": [],
   "source": [
    "def pol_3(x):\n",
    "    return (1/2)*((5*x**3)-(3*x))\n",
    "\n",
    "def pol(N,a,b):\n",
    "    h=(b-a)/N\n",
    "    int=0\n",
    "    ceros=[0,np.sqrt(3/5),-np.sqrt(3/5)]\n",
    "    funcion_ceros=[]\n",
    "    w=[]\n",
    "    for i in ceros:\n",
    "        funcion_ceros.append(f_(i))\n",
    "        wi=-i*((5*i**2)+2)\n",
    "        w.append(i)\n",
    "    for j in range(N):\n",
    "        int+=w[j]*funcion_ceros[j]\n",
    "    return int\n",
    "    \n",
    "    "
   ]
  },
  {
   "cell_type": "code",
   "execution_count": 14,
   "id": "600b41e6-b404-4f09-9114-44f8605e098a",
   "metadata": {},
   "outputs": [
    {
     "data": {
      "text/plain": [
       "4.8"
      ]
     },
     "execution_count": 14,
     "metadata": {},
     "output_type": "execute_result"
    }
   ],
   "source": [
    "pol(3,8,27)"
   ]
  },
  {
   "cell_type": "code",
   "execution_count": null,
   "id": "ed8c9285-92a3-42f7-bce8-87fea1afe01f",
   "metadata": {},
   "outputs": [],
   "source": []
  }
 ],
 "metadata": {
  "kernelspec": {
   "display_name": "Python 3 (ipykernel)",
   "language": "python",
   "name": "python3"
  },
  "language_info": {
   "codemirror_mode": {
    "name": "ipython",
    "version": 3
   },
   "file_extension": ".py",
   "mimetype": "text/x-python",
   "name": "python",
   "nbconvert_exporter": "python",
   "pygments_lexer": "ipython3",
   "version": "3.10.12"
  }
 },
 "nbformat": 4,
 "nbformat_minor": 5
}
