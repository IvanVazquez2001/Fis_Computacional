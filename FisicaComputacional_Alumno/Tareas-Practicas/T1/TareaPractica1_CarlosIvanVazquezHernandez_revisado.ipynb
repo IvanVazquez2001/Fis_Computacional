{
 "cells": [
  {
   "cell_type": "markdown",
   "metadata": {},
   "source": [
    "<h1 align=\"center\">Física Computacional.</h1>\n",
    "<h1 align=\"center\">Semestre 2014-1</h1>\n",
    "\n",
    "<h2>Sergio A. Alcalá Corona </h2> \n",
    "\n",
    "---\n",
    "### Daniel Rojo Mata\n",
    "### Rodrigo Vega Vilchis\n",
    "---"
   ]
  },
  {
   "cell_type": "markdown",
   "metadata": {},
   "source": [
    "<h1 align=\"center\">Programación para la física computacional</h1> \n",
    "\n",
    "## Práctica 1.  Programación para la física computacional\n",
    "\n",
    "\n",
    "### Programación básica para la física\n",
    "\n",
    "---"
   ]
  },
  {
   "cell_type": "markdown",
   "metadata": {},
   "source": [
    "### EJERCICIOS:"
   ]
  },
  {
   "cell_type": "markdown",
   "metadata": {},
   "source": [
    "**1. Caida de una pelota desde una torre:** Se deja caer una pelota desde una torre de altura $h$. Tiene velocidad inicial cero y acelera hacia abajo con la gravedad.\n",
    "\n",
    "Escribe un programa que le pida al usuario que ingrese la altura en metros de la torre y luego calcule e imprima el tiempo en segundos hasta que la pelota toque el suelo (ignora la resistencia del aire). \n",
    "    \n",
    "Después, usa tu programa para calcular el tiempo de una pelota lanzada desde una torre de $100m$ de altura."
   ]
  },
  {
   "cell_type": "markdown",
   "metadata": {},
   "source": [
    "Para este modelo el origen del sistema coordenado estara en el edificio, la aceleracion gravticacional la tomaremos como $g=9.81\\frac{m}{s²}$. Por las ecuaciones de la cinematica podemos usar la ecuacion $h=v_{inicial}t+\\frac{1}{2}gt²$, pero si dejamos caer la pelora desde el reposo entonces podemos decir que $v_{inicial}=0\\frac{m}{s}$ y finalmene solo tenemos la ecuacion $h=\\frac{1}{2}gt²$, de l cual si despejamos el tiempo tenemos que eel tiempo de caida de la pelota desde una altura $h$ es $t=\\sqrt{\\frac{2h}{g}}$"
   ]
  },
  {
   "cell_type": "code",
   "execution_count": 1,
   "metadata": {},
   "outputs": [
    {
     "name": "stdin",
     "output_type": "stream",
     "text": [
      "Intoduce la altura del edifcio en metros: 100\n"
     ]
    },
    {
     "name": "stdout",
     "output_type": "stream",
     "text": [
      "El tiempo de caida es de: 4.52 segundos\n"
     ]
    }
   ],
   "source": [
    "##### Pedimos al usuario la altura del edifcio en metros \n",
    "altura=float(input(\"Intoduce la altura del edifcio en metros:\"))\n",
    "#### Calculamos el tiempo de caida e imprimios el valor \n",
    "from math import *\n",
    "g=9.81\n",
    "tiempo=round(sqrt(2*altura/g),2)\n",
    "print(\"El tiempo de caida es de:\",tiempo,\"segundos\")"
   ]
  },
  {
   "cell_type": "markdown",
   "metadata": {},
   "source": [
    "# Resultado: 1/1"
   ]
  },
  {
   "cell_type": "markdown",
   "metadata": {},
   "source": [
    "**2. Altitud de un satélite**: se va a lanzar un satélite en una órbita circular alrededor de la Tierra de modo que orbite el planeta una vez cada $T$ segundos. "
   ]
  },
  {
   "cell_type": "markdown",
   "metadata": {},
   "source": [
    "(a) Demuestre que la altitud $h$ sobre la superficie de la Tierra que debe tener el satélite es:\n",
    "\n",
    "<h3 align=\"center\">$h = \\biggl( {GMT^2\\over4\\pi^2} \\biggr)^{1/3} - R$,</h3> \n",
    "\n",
    "donde $G=6.67\\times10^{-11}\\,\\textrm{m}^3\\,\\textrm{kg}^{-1}\\,\\textrm{s}^{-2}$ es la constante gravitatoria de Newton, $M=5.97\\times10^{24}\\,$kg es la masa de la Tierra y $R=6371\\,$km  es su radio.\n",
    "\n"
   ]
  },
  {
   "cell_type": "markdown",
   "metadata": {},
   "source": [
    "Para demostrar esta ecuación ocuparemos la ley de gravitacion universal y el movimiento rotacional, si el satelite esta rotando al rededor del sol entonces presecencia fuerzas ficticias, y si esta en equilibrio en su orbita, esta fuerza ficticia llamada fuerza centrifuga debe ser igual en magnitud que la fuerza gravitacional que ejerce la tierra sobre el pero en sentido contrario. Entonces tenemos la ecuación \\begin{align*}\n",
    "    \\frac{GMm_s}{r²}&=m_s\\frac{v²_{orbital}}{r}\\ \\therefore\\\\\n",
    "    \\frac{GM}{r}&=\\omega²r²=\\frac{4\\pi²r²}{T²}\\ \\Rightarrow\\\\\n",
    "    r&=\\left(\\frac{GMT²}{4\\pi²}\\right)^{\\frac{1}{3}}\n",
    "\\end{align*}\n",
    "Donde $r$ es la distancia del satelite aal centro de la tierra, por lo que si queremos saber la altura del satelite medida desde la superficie terrestre, a la distancia $r$ hay que restarle el radio terrestre y la altura sera entonces:\n",
    "\\begin{equation}\n",
    "    h=r-R={\\left(\\frac{GMT²}{4\\pi²}\\right)^{\\frac{1}{3}}-R}_{\\blacksquare}\n",
    "\\end{equation}\n"
   ]
  },
  {
   "cell_type": "markdown",
   "metadata": {},
   "source": [
    "## Resultado: 0.3333/0.3333"
   ]
  },
  {
   "cell_type": "markdown",
   "metadata": {},
   "source": [
    "(b) Escribe un programa que le pida al usuario que ingrese el valor deseado de T y luego calcula e imprima la altitud correcta en metros."
   ]
  },
  {
   "cell_type": "code",
   "execution_count": 2,
   "metadata": {},
   "outputs": [
    {
     "name": "stdin",
     "output_type": "stream",
     "text": [
      "Ingresa el periodo en horas: 1.5\n"
     ]
    },
    {
     "name": "stdout",
     "output_type": "stream",
     "text": [
      "La altura del satelite es: 279.32 kilometros\n"
     ]
    }
   ],
   "source": [
    "##### PRIMERO ESCRIBIMOS LA CONSTANTES EN SI\n",
    "R=6371e3\n",
    "G=6.67e-11\n",
    "M=5.97e24\n",
    "###POR SIMPLCIDAD PEDIREMOS QUE EL USUARIO INGRESE EL PERIODO EN HORAS Y DESPUES HAREMOS LA CONVERSION A SEGUNDOS.\n",
    "periodo=float(input(\"Ingresa el periodo en horas:\"))\n",
    "periodo=periodo*3600\n",
    "#### Escribimos la ecuacion de la altura y la mostramos en pantalla\n",
    "altura_s=(((G*M*periodo**2)/(4*pi**2))**(1/3))-R\n",
    "print(\"La altura del satelite es:\",round(altura_s/1000,2),\"kilometros\") ## Valor redondeado en kilometros"
   ]
  },
  {
   "cell_type": "markdown",
   "metadata": {},
   "source": [
    "(c) Utiliza tu programa para calcular las altitudes de los satélites que orbitan la Tierra una vez al día (la llamada órbita *geoestacionaria*), una vez cada **90 minutos** y una vez cada **45 minutos**. ¿Qué concluyes de este último cálculo?"
   ]
  },
  {
   "cell_type": "markdown",
   "metadata": {},
   "source": [
    "De acuerdo al programa del inciso (b) las altitudees de los satelites son:\n",
    "\n",
    "Para un satelite con un perido orbital de 1 día o $24$ horas su altitud de orbita es de $35855.91$ kilometros, para un satelite de periodo orbital de $90$ minutos o $1.5$ horas, la altitud de su orbita es de $279.32$ kilometros, y para un satelite con periodo orbital de $45$minutos o $0.75$ horas, la altitud de su orbita es de $-2181.56km$ lo cual nos dice que para que un objeto pueda tener ese periodo, debe estar dentro de la tierra, por lo que no hay satelite que tenga un perido de 45 minutos"
   ]
  },
  {
   "cell_type": "markdown",
   "metadata": {},
   "source": [
    "## Resultado 2b y 2c respectivamente: 0.3333/0.3333\n",
    "\n",
    "¡Muy bien!\n",
    "\n",
    "# Resultado: 1/1"
   ]
  },
  {
   "cell_type": "markdown",
   "metadata": {},
   "source": [
    "**3. Relatividad especial:** Una nave espacial viaja desde la Tierra en línea recta a una velocidad relativista $v$ a otro planeta a $x$ años luz de distancia. \n",
    " \n",
    " Escribe un programa que le pida al usuario el valor de $x$ y la velocidad $v$ como una fracción de la velocidad de la luz $c$, y que imprima el tiempo en años que tarda la nave espacial en llegar a su destino"
   ]
  },
  {
   "cell_type": "markdown",
   "metadata": {},
   "source": [
    "a) en el marco de reposo de un observador en la Tierra y "
   ]
  },
  {
   "cell_type": "markdown",
   "metadata": {},
   "source": [
    "En este problema al estar en un maro de referencia en reposo, y suponiendo que la na nave espacial se mueve a velocidad constante, el tiempo que mediremos nosotros como observadores en reposo es $t=\\frac{d}{v}$"
   ]
  },
  {
   "cell_type": "code",
   "execution_count": 3,
   "metadata": {
    "scrolled": true
   },
   "outputs": [
    {
     "name": "stdin",
     "output_type": "stream",
     "text": [
      "Introduce la distancia en años luz: 10\n",
      "Introduce la velocidad como una fraccion de la velocidad de la luz, recuerda que esta debe ser menor a 1: .99\n"
     ]
    },
    {
     "name": "stdout",
     "output_type": "stream",
     "text": [
      "El tiempo que mide el observador en reposo es: 10.1 años\n"
     ]
    }
   ],
   "source": [
    "#### Calculamos el tiempo medido desde el observador en reposo.\n",
    "c=3e8\n",
    "distancia=float(input(\"Introduce la distancia en años luz:\"))*9.461e15\n",
    "velocidad=float(input(\"Introduce la velocidad como una fraccion de la velocidad de la luz, recuerda que esta debe ser menor a 1:\"))\n",
    "if velocidad <= 1:\n",
    "    tiempo=distancia/(velocidad*c)\n",
    "    print(\"El tiempo que mide el observador en reposo es:\",round(tiempo/31536000,2),\"años\")\n",
    "else:\n",
    "    print(\"Nada puede viajar mas rapido que la luz\")"
   ]
  },
  {
   "cell_type": "markdown",
   "metadata": {},
   "source": [
    "# Resultado: 0.3/0.5\n",
    "\n",
    "El resultado esta parcialmente bien, pero no es el resultado que esperamos. De hecho había que usar dilactación temporal tal y como propusiste en el siguiente inciso. El tiempo que percibe un observador en reposo un sistema en movimiento es más lento que el tiempo que percibe alguien dentro de ese sistema (nave)\n",
    "\n",
    "$$\n",
    "\\Delta t=\\gamma\\Delta{t}\n",
    "$$\n",
    "\n",
    "y por tanto $t>\\overline{t}$. Aquí el tiempo del observador en la nave lo podemos determinar fácilmente haciendo $t=\\frac{d}{v}$, y esto es posible porque esta es una velocidad bien definida."
   ]
  },
  {
   "cell_type": "markdown",
   "metadata": {},
   "source": [
    "b) como lo percibiría un pasajero a bordo de la nave. "
   ]
  },
  {
   "cell_type": "markdown",
   "metadata": {},
   "source": [
    "Cuando el observador esta en el sistema en movimiento a una velocidad $\\vec{v}$ mide una dilatación temoral dada por las transformaciones de Lorentz, entonces en este caso $t_0=\\frac{t}{\\sqrt{1-\\frac{v²}{c²}}}$ y despejamos el tiempo $t$ que es el tiempo como lo percibiria un pasajero a bordo de la nave desdde el marco de referencia terrestre. $t=t_0\\sqrt{1-\\frac{v²}{c²}}$"
   ]
  },
  {
   "cell_type": "code",
   "execution_count": 3,
   "metadata": {},
   "outputs": [
    {
     "name": "stdout",
     "output_type": "stream",
     "text": [
      "Introduce la distancia en años luz:10\n",
      "Introduce la velcodiad como una fraccion de la velocidad de la luz, recuerda que esta debe ser menor a 1:0.99\n",
      "El tiempo que percibec un pasajero de la nave espacial es: 71.61 años\n"
     ]
    }
   ],
   "source": [
    "from math import*\n",
    "c=3e8\n",
    "distancia_m=float(input(\"Introduce la distancia en años luz:\"))*9.461e15\n",
    "velocidad_m=float(input(\"Introduce la velcodiad como una fraccion de la velocidad de la luz, recuerda que esta debe ser menor a 1:\"))\n",
    "if velocidad_m<=1:\n",
    "    tiempo_m=(distancia_m/(velocidad_m*c))/(sqrt(1-(velocidad_m**2)))\n",
    "    print(\"El tiempo que percibec un pasajero de la nave espacial es:\",round(tiempo_m/31536000,2),\"años\")\n",
    "else:\n",
    "    print(\"Nada puede viajar mas rapido que la luz\")"
   ]
  },
  {
   "cell_type": "markdown",
   "metadata": {},
   "source": [
    "Usa tu programa para calcular las respuestas para un planeta a 10 años luz de distancia con $v = 0.99c$"
   ]
  },
  {
   "cell_type": "markdown",
   "metadata": {},
   "source": [
    "De acuerdo a ambos pogramas para el observador pasaran $10.10$ años y para las personas en la nave espacial pasaran $1.43$ años medido desde el marco de referencia en la tierra"
   ]
  },
  {
   "cell_type": "markdown",
   "metadata": {},
   "source": [
    "## Resultado: 0.3/0.5\n",
    "\n",
    "Este resultado no puede ser posible porque el observador en movimiento no puede viajar más rápido que la luz, es decir, no puede llegar en menos de 10 años.  Aquí el detalle es que en lugar de dividir la $\\gamma$ la pusiste multiplicando por eso no te dio el resultado. Corrigiendo ese detalle observa como el tiempo cambia a 71 años, lo cual sigue siendo incorrecto pero no del todo.\n",
    "\n",
    "Si me dices cual es la hipótesis que se debe cumplir para que ambos resultados sean correctos, te pongo el punto completo. Es decir, que hipótesis se debe considerar para que el observador en la Tierra perciba 10.10 años y el observador en la nace 71 años\n",
    "\n",
    "# Resultado: 0.6/1"
   ]
  },
  {
   "cell_type": "markdown",
   "metadata": {},
   "source": [
    "**4. Órbitas planetarias:** En el espacio, la órbita de un cuerpo alrededor de otro (como un planeta alrededor del Sol), no necesariamente es circular. En general, toma la forma de una elipse, con el cuerpo a veces más cerca y otras más lejos. Si tenemos la distancia $\\ell_1$ de máxima aproximación de un planeta al Sol (su *perihelio*), y su velocidad lineal $v_1$ en el perihelio, entonces cualquier otra propiedad de la órbita se puede calcular a partir de estas dos cantidades de la siguiente manera:"
   ]
  },
  {
   "cell_type": "markdown",
   "metadata": {},
   "source": [
    "   \n",
    "**a)** La segunda ley de Kepler nos dice que la distancia $\\ell_2$ y la velocidad $v_2$ del planeta en su punto más distante, o *afelio*, satisfacen que $\\ell_2 v_2 = \\ell_1 v_1$.  Al mismo tiempo, la energía total, cinética más la gravitatoria, de un planeta con velocidad $v$ y distancia $r$ del Sol está dada por:\n",
    "\n",
    "<h3 align=\"center\">$E = \\frac{1}{2} m v^2 - G {mM\\over r}$,</h3> \n",
    "        \n",
    "donde $m$ es la masa del planeta, $M=1.9891\\times10^{30}\\,$kg es la masa del Sol y $G=6.6738\\times10^{-11}\\,\\mathrm{m^3\\,kg^{-1}\\,s^{-2}}$ es la constante gravitatoria de Newton. Dado que la energía debe conservarse, demuestre que $v_2$ es la raíz más pequeña de la ecuación cuadrática:\n",
    "\n",
    "<h3 align=\"center\">$v_2^2 - {2GM\\over v_1\\ell_1} v_2 - \\biggl[ v_1^2 - {2GM\\over\\ell_1} \\biggr] = 0$.</h3> \n",
    "\n",
    "Una vez que tenemos $v_2$ podemos calcular $\\ell_2$  usando la relación $\\ell_2 = \\ell_1 v_1/v_2$."
   ]
  },
  {
   "cell_type": "markdown",
   "metadata": {},
   "source": [
    "$\\textbf{DEMOSTRACIÓN EN EL PDF DE DEMOSTRACIONES}$"
   ]
  },
  {
   "cell_type": "markdown",
   "metadata": {},
   "source": [
    "## Resultado: 0.3333/0.3333"
   ]
  },
  {
   "cell_type": "markdown",
   "metadata": {},
   "source": [
    "**b)** Dados los valores de $v_1$, $\\ell_1$, y $\\ell_2$; otros parámetros de la órbita se obtienen mediante fórmulas simples que pueden derivarse de las leyes de Kepler y del hecho de que la órbita es una elipse:\n",
    "\n",
    "<h4 align=\"center\">Semieje mayor: $\\; \\; \\; a = \\frac{1}{2}(\\ell_1+\\ell_2)$,</h4> \n",
    "\n",
    "<h4 align=\"center\">Semieje menor: $\\; \\; \\; b = \\sqrt{\\ell_1\\ell_2}$,</h4> \n",
    "\n",
    "<h4 align=\"center\">Período orbital: $\\; \\; \\; T = {2\\pi ab\\over\\ell_1 v_1}$,</h4> \n",
    "\n",
    "<h4 align=\"center\">Excentricidad orbital: $\\; \\; \\; e = {\\ell_2-\\ell_1\\over\\ell_2+\\ell_1}$.</h4> \n",
    "\n",
    "Escribe un programa que le pida al usuario que ingrese la distancia al Sol y la velocidad en el perihelio; para que calcule e imprima las cantidades:\n",
    "\n",
    "$\\ell_2$, $v_2$, $T$ y $e$."
   ]
  },
  {
   "cell_type": "code",
   "execution_count": 4,
   "metadata": {},
   "outputs": [],
   "source": [
    "from math import *\n",
    "G=6.6738e-11\n",
    "M=1.9891e30\n",
    "def v2(v_1,l_1,G,M):\n",
    "    chicharronera=(2*G*M/(v_1*l_1))+(sqrt((4*G**2*M**2/(v_1**2*l_1*22))+4*(v_1**2-2*G*M/l_1))/(-2*(v_1**2-2*G*M/l_1)))\n",
    "    return chicharronera\n",
    "def l2(l_1,v_1,v_2): return(l_1*v_1/v_2)\n",
    "def semieje_mayor(l_1,l_2): return((1/2)*(l_1+l_2))\n",
    "def semieje_menor(l_1,l_2): return((sqrt(l_1*l_2)))\n",
    "def periodo_orbital(l_1,v_1,s_mayor,s_menor):\n",
    "    a=s_mayor\n",
    "    b=s_menor\n",
    "    return ((2*pi*a*b)/(l_1*v_1))\n",
    "def excentricidad(l_1,l_2): return((l_2-l_1)/(l_1+l_2))\n",
    "\n",
    "def Orbita(v_1,l_1,G,M):\n",
    "    v_2=v2(v_1,l_1,G,M)\n",
    "    l_2=l2(l_1,v_1,v_2)\n",
    "    sm=semieje_mayor(l_1,l_2)\n",
    "    s_me=semieje_menor(l_1,l_2)\n",
    "    po=periodo_orbital(l_1,v_1,sm,s_me)\n",
    "    print(\"velocidad v2:\",v_2,\"m/s\")\n",
    "    print(\"l2:\",l_2,\"m\")\n",
    "    print(\"semi eje mayor:\",sm,\"m\")\n",
    "    print(\"semi eje menor:\",s_me,\"m\")\n",
    "    print(\"Periodo:\",po,\"s\")\n",
    "    "
   ]
  },
  {
   "cell_type": "markdown",
   "metadata": {},
   "source": [
    "**c)** Prueba tu programa haciendo que calcule las propiedades de las órbitas de la Tierra (para las cuales $\\ell_1=1.4710\\times10^{11}\\,$m y $v_1=3.0287\\times10^4\\,\\mathrm{m\\,s^{-1}}$)  y del cometa Halley ($\\ell_1=8.7830\\times10^{10}\\,$m y $v_1=5.4529\\times10^4\\,\\mathrm{m\\,s^{-1}}$). Entre otras cosas, deberías encontrar que el período orbital de la Tierra es de un año y el del cometa Halley es de unos 76 años."
   ]
  },
  {
   "cell_type": "code",
   "execution_count": 6,
   "metadata": {},
   "outputs": [
    {
     "name": "stdout",
     "output_type": "stream",
     "text": [
      "Las propiedades orbitales del cometa Halley:\n",
      "velocidad v2: 55471.10388025367 m/s\n",
      "l2: 86338322747.97879 m\n",
      "semi eje mayor: 87084161373.9894 m\n",
      "semi eje menor: 87080967420.87204 m\n",
      "Periodo: 9948826.825911611 s\n",
      "Las propiedades orbitales de la Tierra:\n",
      "velocidad v2: 59595.14423808438 m/s\n",
      "l2: 74758065559.85957 m\n",
      "semi eje mayor: 110929032779.92978 m\n",
      "semi eje menor: 104866159669.62527 m\n",
      "Periodo: 16405577.706088124 s\n"
     ]
    }
   ],
   "source": [
    "print(\"Las propiedades orbitales del cometa Halley:\")\n",
    "Orbita(5.4529e4,8.7830e10,6.6738e-11,1.9891e30)\n",
    "print(\"Las propiedades orbitales de la Tierra:\")\n",
    "Orbita(3.0287e4,1.4710e11,6.6738e-11,1.9891e30)"
   ]
  },
  {
   "cell_type": "code",
   "execution_count": 5,
   "metadata": {},
   "outputs": [
    {
     "data": {
      "text/plain": [
       "False"
      ]
     },
     "execution_count": 5,
     "metadata": {},
     "output_type": "execute_result"
    }
   ],
   "source": [
    "5.4529e4>55471.10"
   ]
  },
  {
   "cell_type": "markdown",
   "metadata": {},
   "source": [
    "## Resultados ejercicios 4b y 4c respectivamente: 0.3/0.5\n",
    "\n",
    "Aquí estuviste mal, observa que tu $v_2$ es mayor que la $v_1$ y justo en el inciso anterior habíamos quedado que era al revés. Aquí donde yo encuentro la falla es enla fórmula de la chicharronera, al parecer python se porta mal cuando poner muchas operaciones así de atascadas, es mejor tener la buena práctica de definir variables y ya luego juntarlas en la operación para que se pueda resolver bien. Aunque desde nuestro punto de vista estan bien escritas las operaciones, al parecer python no lo lee muy bien y no se que demonios entrega jaja. Puede que se trate de que hay un error que se va maximizando hasta que crece tanto que diverge del resultado real.\n",
    "\n",
    "Otro detalle es que para el periodo orbital había que dividir el periodo encontrado entre el número de segundos que tiene un año y corroborar que son de 1 año y 76 años.\n",
    "\n",
    "# Resultado: 0.96/1"
   ]
  },
  {
   "cell_type": "markdown",
   "metadata": {},
   "source": [
    "**5. La fórmula semiempírica de la masa (FSM)**\n",
    " \n",
    "En física nuclear, la **fórmula de Weizsäcker** (conocida también como fórmula semiempírica) sirve para evaluar la masa y otras propiedades de un núcleo atómico; y está basada parcialmente en mediciones empíricas. En particular la fórmula se usa para calcular la $\\textbf{\\textit{energía de enlace nuclear aproximada}}$ $B$, de un núcleo atómico con número atómico $Z$ y número de masa $A$:\n",
    "\n",
    "<h3 align=\"center\">$B = a_1 A - a_2 A^{2/3} - a_3 {Z^2\\over A^{1/3}} - a_4 {(A - 2Z)^2\\over A} + {a_5\\over A^{1/2}}$,</h3>\n",
    "\n",
    "donde, en unidades de millones de electrón-volts, las constantes son $a_1=15.8$, $a_2=18.3$, $a_3=0.714$, $a_4=23.2$ y          \n",
    "<h6 align=\"center\">\n",
    "$a_5 = \n",
    "  \\left \\{\n",
    "    \\begin{aligned}\n",
    "      0 & \\; \\text{si} \\ A \\; \\text{es impar,} \\\\\n",
    "      12.0 & \\; \\text{si} \\ A \\; \\text{y} \\; Z \\; \\text{son pares (ambos),} \\\\\n",
    "      -12.0 & \\; \\text{si} \\ A \\; \\text{es par y} \\; Z \\; \\text{impar} \n",
    "    \\end{aligned}\n",
    "  \\right.\n",
    "$\n",
    "</h6>"
   ]
  },
  {
   "cell_type": "markdown",
   "metadata": {},
   "source": [
    "**a)** Escribe un programa que tome como entrada los valores de $A$ y $Z$, e imprima la energía de enlace $B$ para el átomo correspondiente. Usa tu programa para encontrar la energía de enlace de un átomo con $A=58$ y $Z=28$ (Hint: La respuesta correcta es alrededor de los $490\\,$MeV)."
   ]
  },
  {
   "cell_type": "code",
   "execution_count": 6,
   "metadata": {},
   "outputs": [],
   "source": [
    "def energia_atomo(A,Z):\n",
    "    a1=15.8\n",
    "    a2=18.3\n",
    "    a3=0.714\n",
    "    a4=23.2\n",
    "    a5=0\n",
    "    if A%2 == 0 and Z%2 == 0:\n",
    "        a5=12\n",
    "    elif A%2 == 0 and Z%2!=0:\n",
    "        a5=-12\n",
    "    elif A%2 != 0:\n",
    "        a5=0\n",
    "    B=a1*A-a2*A**(2/3)-a3*(Z**2/A**(1/3))-a4*((A-2*Z)**2/A)+a5/A**(1/2)\n",
    "    return B"
   ]
  },
  {
   "cell_type": "code",
   "execution_count": 7,
   "metadata": {},
   "outputs": [
    {
     "name": "stdout",
     "output_type": "stream",
     "text": [
      "La energia de enlace de A=58 y Z=28 es: 497.5620206224374 Mev\n"
     ]
    }
   ],
   "source": [
    "print(\"La energia de enlace de A=58 y Z=28 es:\", energia_atomo(58,28),\"Mev\")"
   ]
  },
  {
   "cell_type": "markdown",
   "metadata": {},
   "source": [
    "## Resultado: 0.25/0.25"
   ]
  },
  {
   "cell_type": "markdown",
   "metadata": {},
   "source": [
    "**b)** Modifica el programa del inciso anterior, para escribir una segunda versión que imprima no la energía de enlace total $B$, sino la energía de unión por nucleón, que es $B/A$."
   ]
  },
  {
   "cell_type": "code",
   "execution_count": 8,
   "metadata": {},
   "outputs": [],
   "source": [
    "def energia_nucleon(A,Z):\n",
    "    B=energia_atomo(A,Z)\n",
    "    return B/A"
   ]
  },
  {
   "cell_type": "markdown",
   "metadata": {},
   "source": [
    "## Resultado: 0.25/0.25\n",
    "\n",
    "Muy bien, reciclando funciones esta genial. Ahorras espacio y optimizas código."
   ]
  },
  {
   "cell_type": "code",
   "execution_count": 9,
   "metadata": {},
   "outputs": [
    {
     "name": "stdout",
     "output_type": "stream",
     "text": [
      "La energia de union por nucleon para A=58,Z=28 es: 8.578655527973059 Mev\n"
     ]
    }
   ],
   "source": [
    "print(\"La energia de union por nucleon para A=58,Z=28 es:\",energia_nucleon(58,28),\"Mev\")"
   ]
  },
  {
   "cell_type": "markdown",
   "metadata": {},
   "source": [
    "**c)** Escribe una tercera versión del programa para que tome como entrada solo un valor del número atómico $Z$ y luego pase por todos los valores de $A$ desde $A=Z$ hasta $A=3Z$, para encontrar el que tiene la mayor energía de enlace por nucleón . Este es el núcleo más estable con el número atómico dado. Haz que tu programa imprima el valor de $A$ para este núcleo más estable y el valor de la energía de enlace por nucleón."
   ]
  },
  {
   "cell_type": "code",
   "execution_count": 10,
   "metadata": {},
   "outputs": [],
   "source": [
    "def mayor_energia_nucleon(Z):\n",
    "    import numpy as np\n",
    "    a=list(np.arange(Z,(3*Z)+1,1))\n",
    "    energia=[]\n",
    "    A=[]\n",
    "    for i in a:\n",
    "        energia.append(energia_nucleon(i,Z))\n",
    "        A.append(i)\n",
    "    m_energia=max(energia)\n",
    "    atomo=A[energia.index(m_energia)]\n",
    "    return [atomo,m_energia]"
   ]
  },
  {
   "cell_type": "code",
   "execution_count": 11,
   "metadata": {},
   "outputs": [
    {
     "data": {
      "text/plain": [
       "[62, 8.70245768367189]"
      ]
     },
     "execution_count": 11,
     "metadata": {},
     "output_type": "execute_result"
    }
   ],
   "source": [
    "mayor_energia_nucleon(28)"
   ]
  },
  {
   "cell_type": "markdown",
   "metadata": {},
   "source": [
    "# Resultado: 0.25/0.25\n",
    "\n",
    "Aquí tuviste un error (que ya corregí) muy minúsculo, pero que venías arrastrando desde el primer inciso. Lo que pasó es que en las condiciones donde $a_5=\\pm 12$ olvidaste poner la condición `A%2 == 0`; ese pequeño detalle te estaba arrohando un pequeño sesgo, te salía la respuesta $A=63$ y la correcta es $A=62$ igual te aparecía otra energía que no era la correspondiente. Pero bueno, arreglando ese detalle no hay mayor problema, tu código esta perfecto y eres de los pocos que usó listas para atacar el problema, ¡bien ahi!"
   ]
  },
  {
   "cell_type": "code",
   "execution_count": 12,
   "metadata": {},
   "outputs": [
    {
     "name": "stdout",
     "output_type": "stream",
     "text": [
      "El numero A para el cual el nucleo es mas estable es: 62 Y el valor de la mayor energia de enlace por nucleon es: 8.70245768367189 Mev\n"
     ]
    }
   ],
   "source": [
    "print(\"El numero A para el cual el nucleo es mas estable es:\",mayor_energia_nucleon(28)[0],\"Y el valor de la mayor energia de enlace por nucleon es:\",mayor_energia_nucleon(28)[1],\"Mev\")"
   ]
  },
  {
   "cell_type": "markdown",
   "metadata": {},
   "source": [
    "**d)** Finalmente, escribe una cuarta versión del programa que, en lugar de tomar $Z$ como entrada, se ejecute a través de todos los valores de $Z$ de 1 a 100 e imprima el valor más estable de $A$ para cada uno. ¿A qué valor de $Z$ se produce la energía de enlace máxima por nucleón? (La respuesta correcta, en la vida real, es $Z=28$, que corresponde al Níquel)."
   ]
  },
  {
   "cell_type": "code",
   "execution_count": 15,
   "metadata": {},
   "outputs": [
    {
     "name": "stdout",
     "output_type": "stream",
     "text": [
      "Valores de A para los cuales el atomo es estable:\n",
      "[3, 4, 7, 8, 11, 14, 15, 18, 19, 22, 25, 26, 29, 30, 33, 36, 37, 40, 43, 44, 47, 48, 51, 54, 55, 58, 61, 62, 65, 68, 69, 72, 75, 76, 79, 82, 85, 86, 89, 92, 93, 96, 99, 102, 103, 106, 109, 110, 113, 116, 119, 120, 123, 126, 129, 130, 133, 136, 139, 140, 143, 146, 149, 150, 153, 156, 159, 162, 163, 166, 169, 172, 175, 176, 179, 182, 185, 188, 191, 192, 195, 198, 201, 204, 205, 208, 211, 214, 217, 220, 223, 224, 227, 230, 233, 236, 239, 242, 243]\n",
      "Valor de A para el cual la energia de enlace por nucleon es maxima:\n",
      "62\n",
      "Valor de Z para la cual se produce la energía de enlace máxima por nucleon para A:\n",
      "28\n",
      "8.70245768367189\n"
     ]
    }
   ],
   "source": [
    "import numpy as np\n",
    "Z=np.arange(1,101,1)\n",
    "estabilidad=[]\n",
    "max_energia_nucleon=[]\n",
    "for i in range(1,100,1):\n",
    "    estabilidad.append(mayor_energia_nucleon(i)[0])\n",
    "    max_energia_nucleon.append(mayor_energia_nucleon(i)[1])\n",
    "##AQUI IMRPIMIMOS LOS VALORES DE A PARA LOGRAR LA ESTABLIDAD EN NUMEROS ATOMICOS DEL 1 AL 100\n",
    "print(\"Valores de A para los cuales el atomo es estable:\")\n",
    "print(estabilidad)\n",
    "### AQUI PRODUCIMOS EL VALOR DE A PARA UNA MAXIMA DE ENERGIA DE ENLACE POR NUCLEON \n",
    "print(\"Valor de A para el cual la energia de enlace por nucleon es maxima:\")\n",
    "print(estabilidad[max_energia_nucleon.index(max(max_energia_nucleon))])\n",
    "### AQUI IMPRIMIOS A QUE VALOR DE z en Z corresponde ese A\n",
    "print(\"Valor de Z para la cual se produce la energía de enlace máxima por nucleon para A:\")\n",
    "print(Z[max_energia_nucleon.index(max(max_energia_nucleon))])\n",
    "print(max(max_energia_nucleon))"
   ]
  },
  {
   "cell_type": "markdown",
   "metadata": {},
   "source": [
    "## Resultado: 0.25/0.25\n",
    "\n",
    "Excelente, volviste a usar la lógica del inciso anterior pero extendida y te salió perfecto. Agregué una línea a tu código, el último print para saber cual es la energía correspondiente y coincide con el inciso anterior, muy bien.\n",
    "\n",
    "# Resultado: 1/1"
   ]
  },
  {
   "cell_type": "markdown",
   "metadata": {},
   "source": [
    "# Resultado Final:\n",
    "\n",
    "* Ejercicio 1: 1\n",
    "* Ejercicio 2: 1\n",
    "* Ejercicio 3: 0.6\n",
    "* Ejercicio 4: 0.96\n",
    "* Ejercicio 5: 1\n",
    "\n",
    "**Total: 9.1**\n",
    "\n"
   ]
  }
 ],
 "metadata": {
  "kernelspec": {
   "display_name": "Python 3 (ipykernel)",
   "language": "python",
   "name": "python3"
  },
  "language_info": {
   "codemirror_mode": {
    "name": "ipython",
    "version": 3
   },
   "file_extension": ".py",
   "mimetype": "text/x-python",
   "name": "python",
   "nbconvert_exporter": "python",
   "pygments_lexer": "ipython3",
   "version": "3.10.12"
  }
 },
 "nbformat": 4,
 "nbformat_minor": 4
}
