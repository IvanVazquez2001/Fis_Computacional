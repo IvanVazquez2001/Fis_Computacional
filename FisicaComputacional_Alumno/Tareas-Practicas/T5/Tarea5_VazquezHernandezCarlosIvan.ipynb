{
 "cells": [
  {
   "cell_type": "markdown",
   "id": "087f4b9e-e025-4a65-aa63-cd68806a8713",
   "metadata": {},
   "source": [
    "# Tarea 5\n",
    "# Vázquez Hernández Carlos Iván\n",
    "*las demostraciones estan el el pdf "
   ]
  },
  {
   "cell_type": "code",
   "execution_count": 1,
   "id": "eb20af66-78b8-48e0-aecb-285ab190f80b",
   "metadata": {},
   "outputs": [],
   "source": [
    "import numpy as np\n",
    "import matplotlib.pyplot as plt"
   ]
  },
  {
   "cell_type": "markdown",
   "id": "da2c43da-33e4-4a90-bb61-6df251aced35",
   "metadata": {},
   "source": [
    "# Problema 1"
   ]
  },
  {
   "cell_type": "markdown",
   "id": "efe5fc34-4b4b-4f16-a057-6dd7e848313c",
   "metadata": {},
   "source": [
    "(a) Escribe un programaque calcule la descomposicion LU de una matriz."
   ]
  },
  {
   "cell_type": "markdown",
   "id": "ab23d71b-eb3b-4e40-9a69-b241f62985a5",
   "metadata": {},
   "source": [
    "(b) Prueba tu programa claculando la descomposición LU de la matriz del sistema que abordamos en clase\n",
    "\\begin{equation}\n",
    "    \\begin{pmatrix}\n",
    "        2 & 1 & 4 & 1\\\\\n",
    "        3 & 4 & -1 & -1\\\\\n",
    "        1 & -4 & 1 & 5\\\\\n",
    "        2 & -2 & 1 & 1\n",
    "    \\end{pmatrix}\n",
    "    \\begin{pmatrix}\n",
    "        w\\\\\n",
    "        x\\\\\n",
    "        y\\\\\n",
    "        z\\\\\n",
    "    \\end{pmatrix}\n",
    "    =\n",
    "    \\begin{pmatrix}\n",
    "        -4\\\\\n",
    "        3\\\\\n",
    "        9\\\\\n",
    "        7\n",
    "    \\end{pmatrix}\n",
    "\\end{equation}"
   ]
  },
  {
   "cell_type": "markdown",
   "id": "f3f9f3e7-b61f-4d8e-af8a-314aa8d3cbf2",
   "metadata": {},
   "source": [
    "(c) Multiplica las matrices $L$ y $U$ y verifica que se recupere la matriz original $A$"
   ]
  },
  {
   "cell_type": "markdown",
   "id": "1f559bb8-ccb5-4c8b-abb5-69a34c024f4e",
   "metadata": {},
   "source": [
    "(d) Convierte tu programa en una funcion y usala para crear un programa completo para resolver el sistema de ecuaciones, realizando la backsustitution."
   ]
  },
  {
   "cell_type": "markdown",
   "id": "3b3a83fc-0ea5-44d0-b767-3805436a906b",
   "metadata": {},
   "source": [
    "(e) Resuelve el mismo sistema usando la funcion solve del paquete numpy y verifica que obtengas la misma respuesta, para cualquier otro sistema que propongas."
   ]
  },
  {
   "cell_type": "code",
   "execution_count": 18,
   "id": "bad8adc3-4ab9-476f-92ce-78c3f11e244d",
   "metadata": {},
   "outputs": [],
   "source": [
    "#### Inciso (a),(b),(c) y (d)\n",
    "### Hacemos la funcion completa de eliminacion gaussiana que nos de tambien L,U y el resultado del \n",
    "### sistema por backsustitution\n",
    "def metodo_LU(matriz,v):\n",
    "    ### Hacemos las copias de la matriz original y del vector v. U sera la forma reducida de A pero \n",
    "    ### con los valores de la diagonal diferentes de 1.\n",
    "    A=matriz.copy()\n",
    "    U=matriz.copy()\n",
    "    V=v.copy()\n",
    "    N=len(A)\n",
    "    L=np.zeros([N,N],float)\n",
    "    for m in range(N):\n",
    "        #### dividimos por el elemento de la diagonal a la matriz original y al vector v.\n",
    "        div=A[m,m]\n",
    "        A[m,:] = A[m,:]/div\n",
    "        V[m] = V[m]/div\n",
    "        ### Aqui le asignamos a la diagonal de L los valores de 1\n",
    "        L[m,m]=1\n",
    "        ## restamos las filas de abajo a la matriz original, y al vector v\n",
    "        for i in range(m+1,N):\n",
    "            ### aqui gurdamos las operaciones realizadas a la matriz A en la matriz L\n",
    "            L[i,m] = A[i,m]/div\n",
    "            ## reducimos U igual que A pero sin dividir toda la fila por el pivote para \n",
    "            ## no multiplicar los elementos de la diagonal por su inverso y que la diagonal de U\n",
    "            ## sea diferente de 1\n",
    "            U[i,:] = U[i,:]-(U[i,m]/div)*U[m,:]\n",
    "            V[i]=V[i]-(V[m]*A[i,m])\n",
    "            A[i,:] = A[i,:]-(A[i,m])*A[m,:]\n",
    "            ## Aqui hacemos las mismas operaciones al vector v\n",
    "\n",
    "        ### Aqui hacemos la back sustitution\n",
    "        x=np.zeros(N,float)\n",
    "        ## corremos los indices al reves\n",
    "        for m in range(N-1,-1,-1):\n",
    "            x[m] = V[m]\n",
    "            for i in range(m+1,N):\n",
    "                x[m] = x[m]-(A[m,i]*x[i])\n",
    "    return A,x,U,L"
   ]
  },
  {
   "cell_type": "code",
   "execution_count": 19,
   "id": "c669469f-08b7-4f8c-af96-b63fe963dec4",
   "metadata": {},
   "outputs": [
    {
     "name": "stdout",
     "output_type": "stream",
     "text": [
      "La matriz original es:\n",
      " [[ 2.  1.  4.  1.]\n",
      " [ 3.  4. -1. -1.]\n",
      " [ 1. -4.  1.  5.]\n",
      " [ 2. -2.  1.  3.]]\n",
      "---------------------------\n",
      "La matriz L es:\n",
      " [[ 1.          0.          0.          0.        ]\n",
      " [ 1.5         1.          0.          0.        ]\n",
      " [ 0.5        -1.8         1.          0.        ]\n",
      " [ 1.         -1.2         0.83823529  1.        ]]\n",
      "---------------------------\n",
      "La matriz U es:\n",
      " [[  2.    1.    4.    1. ]\n",
      " [  0.    2.5  -7.   -2.5]\n",
      " [  0.    0.  -13.6   0. ]\n",
      " [  0.    0.    0.   -1. ]]\n",
      "---------------------------\n",
      "---------------------------\n",
      "La mutiplicacion LU es:\n",
      " [[ 2.  1.  4.  1.]\n",
      " [ 3.  4. -1. -1.]\n",
      " [ 1. -4.  1.  5.]\n",
      " [ 2. -2.  1.  3.]]\n",
      "---------------------------\n",
      "La solucion del sistema es:\n",
      "w= 2.0000000000000036\n",
      "x= -1.000000000000003\n",
      "y= -2.0\n",
      "z= 0.9999999999999964\n"
     ]
    }
   ],
   "source": [
    "matriz=np.array([[2,1,4,1],\n",
    "            [3,4,-1,-1],\n",
    "            [1,-4,1,5],\n",
    "            [2,-2,1,3]],float)\n",
    "v=np.array([-4,3,9,7],float)\n",
    "## calculamos lo que nos piden los incisos\n",
    "matriz_r,solucion,U,L=metodo_LU(matriz,v)\n",
    "\n",
    "print('La matriz original es:\\n',matriz)\n",
    "print('---------------------------')\n",
    "print('La matriz L es:\\n',L)\n",
    "print('---------------------------')\n",
    "print('La matriz U es:\\n',U)\n",
    "print('---------------------------')\n",
    "print('---------------------------')\n",
    "print('La mutiplicacion LU es:\\n',np.dot(L,U))\n",
    "print('---------------------------')\n",
    "print('La solucion del sistema es:') \n",
    "print('w=',solucion[0])\n",
    "print('x=',solucion[1])\n",
    "print('y=',solucion[2])\n",
    "print('z=',solucion[3])"
   ]
  },
  {
   "cell_type": "markdown",
   "id": "8d3eccce-c13e-4e3a-bd55-416ab998c92b",
   "metadata": {},
   "source": [
    "Redondeando los valores de la solución debido a que python tiene un error en los números debido a como los alamcena, tenemos que $w=2,x=-1,y=-2,z=1$"
   ]
  },
  {
   "cell_type": "markdown",
   "id": "8db0c832-1273-43d6-aa30-e158021658fa",
   "metadata": {},
   "source": [
    "(e) Si resolvemos el mismo sistema con la función solve, tenemos el resultado:"
   ]
  },
  {
   "cell_type": "code",
   "execution_count": 22,
   "id": "fb2d85cb-18e2-46ad-bb2d-e55034364e0f",
   "metadata": {},
   "outputs": [
    {
     "name": "stdout",
     "output_type": "stream",
     "text": [
      "[ 2. -1. -2.  1.]\n"
     ]
    }
   ],
   "source": [
    "solucion_1=np.linalg.solve(matriz,v)\n",
    "print(solucion_1)"
   ]
  },
  {
   "cell_type": "markdown",
   "id": "50fec1fe-03d7-4be3-b1ee-60253346f864",
   "metadata": {},
   "source": [
    "# Problema 2"
   ]
  },
  {
   "cell_type": "markdown",
   "id": "70ef0f48-12ae-46ab-87af-4f38c5f2a3f0",
   "metadata": {},
   "source": [
    "(b) Escribe un programa para evalar la expresión $H_{mn}$ con m y n arbitrarios, cuando la partícula en el pozo es un electrón, el pozo tiene un ancho de $5A$ y $a=10eV$ y la masa y la carga de un electron son $M=9.1094\\times 10^{-31}$ y $q=1.6022\\times 10^{-19}$"
   ]
  },
  {
   "cell_type": "code",
   "execution_count": 3,
   "id": "f1d065f5-12d5-46b8-8433-782c5ca06b6e",
   "metadata": {},
   "outputs": [],
   "source": [
    "L=5e-10\n",
    "a=10\n",
    "M=9.1094e-31\n",
    "h=6.582119569e-16\n",
    "b=1.5023\n",
    "\n",
    "def H_mn(m,n):\n",
    "    #### tenemos que hacer tres casos para resolver la integral\n",
    "    ### caso 1: si m=n\n",
    "    if m==n:\n",
    "        H=(b*n**2)+(a/2)\n",
    "        return H\n",
    "    elif m!=n:\n",
    "        if m%2==0 and n%2==0:\n",
    "            return 0\n",
    "        elif m%2!=0 and n%2!=0:\n",
    "            return 0\n",
    "        elif m%2==0 and n%2!=0:\n",
    "            H=-(8*a*m*n)/(np.pi**2*(m**2-n**2)**2)\n",
    "            return H\n",
    "        elif m%2!=0 and n%2==0:\n",
    "            H=-(8*a*m*n)/(np.pi**2*(m**2-n**2)**2)\n",
    "            return H"
   ]
  },
  {
   "cell_type": "markdown",
   "id": "e1e16115-c16b-4740-b001-19b7c88e3533",
   "metadata": {},
   "source": [
    "(c) Modifica el programa para crear un matriz de 10x10 de los elementos de H. Calcula los valores propios de esta matriz usando la funcion apropiada de la biblioteca numpy.linalg e imprime en electronvolts los primeros diez niveles de energía del pozo cuantico dentro de esta aproximación. "
   ]
  },
  {
   "cell_type": "code",
   "execution_count": 4,
   "id": "681c0eb4-ad97-4e09-a103-7f1598562e42",
   "metadata": {},
   "outputs": [
    {
     "name": "stdout",
     "output_type": "stream",
     "text": [
      "[  5.83385355  11.17390885  18.64665273  29.11516197  42.60962171\n",
      "  59.11975917  78.6401816  101.16898864 126.70393508 155.3734367 ]\n",
      "La energía del estado fundamental es: 5.83385355120786 eV\n"
     ]
    }
   ],
   "source": [
    "### hacemos una matriz vacia\n",
    "### y le agregamos su valores con dos ciclos for\n",
    "H=np.zeros([10,10])\n",
    "for m in range(10):\n",
    "    for n in range(10):\n",
    "        H[m,n]=H_mn(m+1,n+1)\n",
    "\n",
    "### calculamos sus eigen valores\n",
    "eigenvalores,eigenvectores = np.linalg.eig(H)\n",
    "print(np.sort(eigenvalores))\n",
    "print('La energía del estado fundamental es:',min(eigenvalores),'eV')"
   ]
  },
  {
   "cell_type": "markdown",
   "id": "2aa04439-b498-4aa2-b4ab-d0f217687e00",
   "metadata": {},
   "source": [
    "(d) Modifica tu programa para usar una matriz de 100 x 100 y calcula nuevamente los primeros diez valores propios de energía. Comparando con los valores que calculaste en el inciso (c) ¿qué concluyes sobre la precisión del cálculo?"
   ]
  },
  {
   "cell_type": "code",
   "execution_count": 5,
   "id": "d5df076f-93f9-429b-90f5-b707e6c432e0",
   "metadata": {},
   "outputs": [
    {
     "name": "stdout",
     "output_type": "stream",
     "text": [
      "Los primeros diez eigenvalores son:\n",
      " [  5.83385315  11.17390753  18.64665085  29.11515316  42.60961258\n",
      "  59.11970652  78.64012971 101.16835689 126.70310107 155.24365787]\n"
     ]
    }
   ],
   "source": [
    "### Hacemos la matriz de 100 x 100\n",
    "H100=np.zeros([100,100])\n",
    "for m in range(100):\n",
    "    for n in range(100):\n",
    "        H100[m,n]=H_mn(m+1,n+1)\n",
    "\n",
    "eigenvalores100,eigenvectores100=np.linalg.eig(H100)\n",
    "print('Los primeros diez eigenvalores son:\\n',np.sort(eigenvalores100)[0:10])"
   ]
  },
  {
   "cell_type": "markdown",
   "id": "c59dcc4a-7a7f-46c4-a004-9434ad5650c2",
   "metadata": {},
   "source": [
    "Las primeras cifras son iguales pero podemos ver que los eigenvalores estan calculados con mas precisión ya que las ultimas cifras si son diferentes."
   ]
  },
  {
   "cell_type": "markdown",
   "id": "de53a49a-51d1-43a2-a7ad-8a6d14148374",
   "metadata": {},
   "source": [
    "(e)Modifica tu programa una vez mas para calcular la funcion de onda $\\psi(x)$ para el estado fundamental y los dos primeros estados excitados del pozo. Utiliza tus resultados para hacer hacer una gráfica con tres curvas que muestren la densidad de porbabilidad $|\\psi(x)|^{2}$ en funciónm de $x$ para cada uno de estos tres estados.\n",
    "La función de onda debe satisfacer la condicón $\\int_{0}^{L}|\\psi(x)|^{2}dx=1$"
   ]
  },
  {
   "cell_type": "code",
   "execution_count": 170,
   "id": "4e22fec9-4a2c-430d-a7f4-3181a811461d",
   "metadata": {},
   "outputs": [],
   "source": [
    "### podemos escribir cualquier estado como una combinacion lineal de los coeficientes de este estado\n",
    "### con el seno\n",
    "### Los coeficientes yn ya los tenemos para cualqquier estado ya que son los coeficientes de\n",
    "### los eigenvectores, \n",
    "def f2(x,n):\n",
    "    return np.sin((np.pi*n*x)/(L))\n",
    "\n",
    "\n",
    "def YN(n,eigenvalores,eigenvectores,a,b,N,f):\n",
    "    ### definimod una lista vacía donde gaurdaremos nuestros valores de yn\n",
    "    yn=[]\n",
    "    ### Hacemos copias de los eigenvalores y los eigenvectores\n",
    "    val=eigenvalores.copy()\n",
    "    vec=eigenvectores.copy()\n",
    "    ### obtenemos el indice del n-esimo valor de energia en la lista de eigenvalores para buscar\n",
    "    ### su respectivo eigenvector con el indice, ya que la funcion .eig regresa la lista desordenada\n",
    "    indice=val.tolist().index(np.sort(val)[n-1])\n",
    "    ### Ya con el indice buscamos el respectivo eigenvector el cual es un vector de coeficientes\n",
    "    coeficientes=vec[indice]\n",
    "    ### hacemos un array de los valores x para los cuales vamos a obtener un valor de Yn(x)\n",
    "    for i in np.linspace(a,b,N):\n",
    "        y=0\n",
    "        #### calculamos Yn(x) con la suma de coeficientes por la respectiva funcion\n",
    "        ### para elegir el elemento de los coeficientes usamos n=0 ya que los indices corren desde 0\n",
    "        ### pero para evaluar en la funcion usamo n+1 ya que no hay un nivel de energía 0\n",
    "        for n in range(len(coeficientes)):\n",
    "            y=y+(coeficientes[n]*f(i,n+1))\n",
    "        yn.append(y)\n",
    "    return np.array(yn)"
   ]
  },
  {
   "cell_type": "code",
   "execution_count": 171,
   "id": "e6ed9017-aaa0-4d34-8c25-ae564f15aeed",
   "metadata": {},
   "outputs": [
    {
     "data": {
      "text/plain": [
       "Text(0.5, 0, 'x (metros)')"
      ]
     },
     "execution_count": 171,
     "metadata": {},
     "output_type": "execute_result"
    },
    {
     "data": {
      "image/png": "[encoded data removed]",
      "text/plain": [
       "<Figure size 640x480 with 3 Axes>"
      ]
     },
     "metadata": {},
     "output_type": "display_data"
    }
   ],
   "source": [
    "x=np.linspace(0,L,1000)\n",
    "### calculamos los valores de las eigenfunciones\n",
    "y1=YN(1,eigenvalores100,eigenvectores100,0,L,1000,f2)\n",
    "y2=YN(2,eigenvalores100,eigenvectores100,0,L,1000,f2)\n",
    "y3=YN(3,eigenvalores100,eigenvectores100,0,L,1000,f2)\n",
    "### Ahora hay que calcular el valor de la funcion |Y(x)|² la cual es la densidad de probabilidad\n",
    "### y podemos hacer un multipliacion elemento a elemento |Y(x)|²=Y(x)Y(x)\n",
    "yp1=y1**2\n",
    "yp2=y2**2\n",
    "yp3=y3**2\n",
    "## Graficamos\n",
    "fig,(ax1,ax2,ax3) = plt.subplots(3,sharex=True)\n",
    "fig.suptitle('Densidad de probabilidad para diferentes energías En en un pozo potencial asimétrico de largo L')\n",
    "ax1.plot(x,yp1,color='blue')\n",
    "ax1.set_title('Densidad de probababilidad de Y1 y E1')\n",
    "ax2.plot(x,yp2,color='green')\n",
    "ax2.set_title('Densidad de probababilidad de Y2 y E2')\n",
    "ax3.plot(x,yp3,color='red')\n",
    "ax3.set_title('Densidad de probababilidad de Y3 y E3')\n",
    "ax3.set_xlabel('x (metros)')"
   ]
  },
  {
   "cell_type": "code",
   "execution_count": 172,
   "id": "e228cbbc-6f32-4f92-846f-ca96ea064185",
   "metadata": {},
   "outputs": [
    {
     "name": "stdout",
     "output_type": "stream",
     "text": [
      "0.9990000000000002\n",
      "0.9990000000000001\n",
      "0.9990000000000002\n"
     ]
    }
   ],
   "source": [
    "#### Usamos uno de los metodos pasados de integracion para comprobar que las integrales son 1\n",
    "### y que las soluciones etan normalizadas\n",
    "def integral(f):\n",
    "    dx=1/1000\n",
    "    s=(f[0]+f[-1])/2\n",
    "    for i in range(len(f)):\n",
    "        s+=f[i]\n",
    "    return 2*s*dx\n",
    "#### haciendo una variacion del metodo del trapecio, las integrales son las siguientes\n",
    "print(integral(yp1))\n",
    "print(integral(yp2))\n",
    "print(integral(yp3))"
   ]
  },
  {
   "cell_type": "markdown",
   "id": "e109a7c9-672e-44b9-b5fa-e70a83061c86",
   "metadata": {},
   "source": [
    "# Problema 3"
   ]
  },
  {
   "cell_type": "markdown",
   "id": "1f6e2b1c-f0ae-45ad-9695-cb1ac00808e9",
   "metadata": {},
   "source": [
    "(a) Escribe un programa para resolver la ecuación $x=1-e^{-cx}$ para x, usando el método de relajacion para $c=2$, calcula la solución con una precisiṕon de al menos $10^{-6}$"
   ]
  },
  {
   "cell_type": "code",
   "execution_count": 173,
   "id": "b5f7f1e2-3b3a-4b16-92ad-67ba87a81669",
   "metadata": {},
   "outputs": [
    {
     "name": "stdout",
     "output_type": "stream",
     "text": [
      "n = 1 x = 0.8646647167633873\n",
      "----------------------------\n",
      "n = 2 x = 0.8225966691808597\n",
      "----------------------------\n",
      "n = 3 x = 0.8070247503317746\n",
      "----------------------------\n",
      "n = 4 x = 0.8009201942366403\n",
      "----------------------------\n",
      "n = 5 x = 0.7984747083247583\n",
      "----------------------------\n",
      "n = 6 x = 0.7974866394625985\n",
      "----------------------------\n",
      "n = 7 x = 0.797086049491047\n",
      "----------------------------\n",
      "n = 8 x = 0.796923413762181\n",
      "----------------------------\n",
      "n = 9 x = 0.7968573480008734\n",
      "----------------------------\n",
      "n = 10 x = 0.7968305046795713\n",
      "----------------------------\n",
      "n = 11 x = 0.7968195968986895\n",
      "----------------------------\n",
      "n = 12 x = 0.7968151643557075\n",
      "----------------------------\n",
      "n = 13 x = 0.7968133630966887\n",
      "----------------------------\n",
      "n = 14 x = 0.7968126311118457\n",
      "----------------------------\n",
      "n = 15 x = 0.7968123336514794\n",
      "----------------------------\n"
     ]
    }
   ],
   "source": [
    "def f3(x,c):\n",
    "    return 1-np.exp(-c*x)\n",
    "\n",
    "### Método de relajación\n",
    "x0=1\n",
    "for i in range(15):\n",
    "    x=f3(x0,2)\n",
    "    x0=x\n",
    "    print('n =',i+1,'x =',x0)\n",
    "    print('----------------------------')"
   ]
  },
  {
   "cell_type": "markdown",
   "id": "a4da7785-1dfc-465a-a95b-be96766ef8ff",
   "metadata": {},
   "source": [
    "(b) Modifica tu programa para calcular la solución para valores de c de 0 a 3 en pasos de 0.01 y haz una gráfica de x en función de de c. Deberías ver una transición clara de un régimen en el que x=0 a un régimen en el que x es distinito de cero."
   ]
  },
  {
   "cell_type": "code",
   "execution_count": 174,
   "id": "64ee5eb9-a646-4896-addd-5a609b28dfe3",
   "metadata": {},
   "outputs": [],
   "source": [
    "c=np.arange(0,3.01,0.01)\n",
    "x_relajacion=[]\n",
    "for i in c:\n",
    "    x0=1\n",
    "    for j in range(15):\n",
    "        x=f3(x0,i)\n",
    "        x0=x\n",
    "    x_relajacion.append(x0)"
   ]
  },
  {
   "cell_type": "code",
   "execution_count": 175,
   "id": "3473b9ca-c946-42d6-b280-2ffdaf708099",
   "metadata": {},
   "outputs": [
    {
     "data": {
      "image/png": "[encoded data removed]",
      "text/plain": [
       "<Figure size 640x480 with 1 Axes>"
      ]
     },
     "metadata": {},
     "output_type": "display_data"
    }
   ],
   "source": [
    "plt.plot(c,x_relajacion,color='crimson')\n",
    "plt.xlabel('c')\n",
    "plt.ylabel('x')\n",
    "plt.grid(True)"
   ]
  },
  {
   "cell_type": "markdown",
   "id": "e9e5dddf-6090-4629-89f0-1cec88a43605",
   "metadata": {},
   "source": [
    "# Problema 4"
   ]
  },
  {
   "cell_type": "markdown",
   "id": "efcdb4e8-d0c6-4c28-aed2-bdbe498437bd",
   "metadata": {},
   "source": [
    "(b) Resuelve las siguientes ecuaciones, con el método de relajación, notaras que no se converge a una solución\n",
    "\\begin{align}\n",
    "    x&=y(a+x^{2})\\\\\n",
    "    y&=\\frac{b}{a+x^{2}}\\\\\n",
    "\\end{align}"
   ]
  },
  {
   "cell_type": "code",
   "execution_count": 176,
   "id": "40c2d724-5f54-4367-9920-457f703e135c",
   "metadata": {},
   "outputs": [
    {
     "name": "stdout",
     "output_type": "stream",
     "text": [
      "n= 0 x= 1 y= 1\n",
      "----------------\n",
      "n= 1 x= 2 y= 1.0\n",
      "----------------\n",
      "n= 2 x= 5.0 y= 0.4\n",
      "----------------\n",
      "n= 3 x= 10.4 y= 0.07692307692307693\n",
      "----------------\n",
      "n= 4 x= 8.396923076923079 y= 0.018321729571271525\n",
      "----------------\n",
      "n= 5 x= 1.310156049097899 y= 0.0279687745347386\n",
      "----------------\n",
      "n= 6 x= 0.0759774241902131 y= 0.7362390824073594\n",
      "----------------\n",
      "n= 7 x= 0.7404890733011719 y= 1.988521124626821\n",
      "----------------\n",
      "n= 8 x= 3.0788751163466825 y= 1.291719247766276\n",
      "----------------\n",
      "n= 9 x= 13.536535665652755 y= 0.19084931029197522\n",
      "----------------\n",
      "n= 10 x= 35.161656645088655 y= 0.010855535745562367\n",
      "----------------\n",
      "n= 11 x= 13.432011374622395 y= 0.0016163678607467738\n",
      "----------------\n",
      "n= 12 x= 0.2932397270847742 y= 0.011024207919000618\n",
      "----------------\n",
      "n= 13 x= 0.011972174459708588 y= 1.841638368385246\n",
      "----------------\n",
      "n= 14 x= 1.8419023358662185 y= 1.9997133751601999\n",
      "----------------\n",
      "n= 15 x= 8.783949400259472 y= 0.45531076832048456\n",
      "----------------\n",
      "n= 16 x= 35.58607297317904 y= 0.02558926738916367\n",
      "----------------\n",
      "n= 17 x= 32.431033721243125 y= 0.001578072879767756\n",
      "----------------\n",
      "n= 18 x= 1.661350860079516 y= 0.0018997466672298542\n",
      "----------------\n",
      "n= 19 x= 0.007143212139370495 y= 0.5319026315232105\n",
      "----------------\n",
      "n= 20 x= 0.5319297721101206 y= 1.9998979542475976\n",
      "----------------\n",
      "n= 21 x= 2.5657676453894274 y= 1.5589080779324092\n",
      "----------------\n",
      "n= 22 x= 11.821455008110393 y= 0.263742166571354\n",
      "----------------\n",
      "n= 23 x= 37.120865576687 y= 0.01420991469212894\n",
      "----------------\n",
      "n= 24 x= 19.59488493909098 y= 0.0014503698017415505\n",
      "----------------\n",
      "n= 25 x= 0.5583336565748717 y= 0.005195351505903919\n",
      "----------------\n",
      "n= 26 x= 0.006814932055488183 y= 1.5246964939936598\n",
      "----------------\n",
      "n= 27 x= 1.524767305928694 y= 1.999907117715918\n",
      "----------------\n",
      "n= 28 x= 6.649521848727193 y= 0.6015190755704417\n",
      "----------------\n",
      "n= 29 x= 27.19837122492449 y= 0.04423199246719685\n",
      "----------------\n",
      "n= 30 x= 32.76491022494376 y= 0.0026999611574411247\n",
      "----------------\n",
      "n= 31 x= 2.9012144856736284 y= 0.0018612627027568595\n",
      "----------------\n",
      "n= 32 x= 0.017527595544205514 y= 0.2123808366142016\n",
      "----------------\n",
      "n= 33 x= 0.21244608353391248 y= 1.9993857554949892\n",
      "----------------\n",
      "n= 34 x= 2.089624709407675 y= 1.9136314252923772\n",
      "----------------\n",
      "n= 35 x= 10.269563181932499 y= 0.3726801990291227\n",
      "----------------\n",
      "n= 36 x= 39.676997856972335 y= 0.018785705530068603\n",
      "----------------\n",
      "n= 37 x= 29.592448621959115 y= 0.0012696283278247305\n",
      "----------------\n",
      "n= 38 x= 1.1130996797794412 y= 0.0022812482132351436\n",
      "----------------\n",
      "n= 39 x= 0.0051076939835163725 y= 0.8932595494550857\n",
      "----------------\n",
      "n= 40 x= 0.8932828532906328 y= 1.9999478242855298\n",
      "----------------\n",
      "n= 41 x= 3.5958147024182177 y= 1.1123753529015536\n",
      "----------------\n",
      "n= 42 x= 15.495258934172025 y= 0.1435762200073222\n",
      "----------------\n",
      "n= 43 x= 34.616664470408445 y= 0.008295208230131836\n",
      "----------------\n",
      "n= 44 x= 9.948554876076166 y= 0.0016676207415973101\n",
      "----------------\n",
      "n= 45 x= 0.16671828931348773 y= 0.020005252554644554\n",
      "----------------\n",
      "n= 46 x= 0.02056129830917014 y= 1.9459133614848052\n",
      "----------------\n",
      "n= 47 x= 1.9467360294158578 y= 1.999154823336475\n",
      "----------------\n",
      "n= 48 x= 9.575514125184863 y= 0.4175556105292424\n",
      "----------------\n",
      "n= 49 x= 38.70342610910898 y= 0.021577191091667686\n",
      "----------------\n",
      "n= 50 x= 32.343242628216515 y= 0.0013342626983754292\n",
      "----------------\n",
      "n= 51 x= 1.3970869161247754 y= 0.0019100639809531575\n",
      "----------------\n",
      "n= 52 x= 0.005638225898100457 y= 0.6775407780651947\n",
      "----------------\n",
      "n= 53 x= 0.6775623168096037 y= 1.999936422838536\n",
      "----------------\n",
      "n= 54 x= 2.9180886214762056 y= 1.3707167137554623\n",
      "----------------\n",
      "n= 55 x= 13.042700152077376 y= 0.21018910160824963\n",
      "----------------\n",
      "n= 56 x= 35.96588328351499 y= 0.01168824910826478\n",
      "----------------\n",
      "n= 57 x= 15.130961640926625 y= 0.0015449446486798428\n",
      "----------------\n",
      "n= 58 x= 0.3552538424621783 y= 0.00869769423447868\n",
      "----------------\n",
      "n= 59 x= 0.009795389280148468 y= 1.775875156305549\n",
      "----------------\n",
      "n= 60 x= 1.776045550907282 y= 1.9998081191086052\n",
      "----------------\n",
      "n= 61 x= 8.307878459755093 y= 0.48142450056197794\n",
      "----------------\n",
      "n= 62 x= 33.70975009333343 y= 0.028562923144137234\n",
      "----------------\n",
      "n= 63 x= 32.48596212864841 y= 0.001758477894607187\n",
      "----------------\n",
      "n= 64 x= 1.8575465569824818 y= 0.0018933338580366691\n",
      "----------------\n",
      "n= 65 x= 0.008426242975351435 y= 0.449389808381998\n",
      "----------------\n",
      "n= 66 x= 0.44942171576424056 y= 1.9998580069403709\n",
      "----------------\n",
      "n= 67 x= 2.4037890844003726 y= 1.6639213647475541\n",
      "----------------\n",
      "n= 68 x= 11.27839505961545 y= 0.295063500782227\n",
      "----------------\n",
      "n= 69 x= 37.827788500297046 y= 0.015600356905871459\n",
      "----------------\n"
     ]
    }
   ],
   "source": [
    "## metodo de relahacion para x=y(a+x²)\n",
    "a=1\n",
    "b=2\n",
    "x0=1\n",
    "y0=1\n",
    "\n",
    " \n",
    "for i in range(70):\n",
    "    y=b/(a+x0**2)\n",
    "    x=y0*(a+x0**2)\n",
    "    print('n=',i,'x=',x0,'y=',y0)\n",
    "    print('----------------')\n",
    "    x0=x\n",
    "    y0=y"
   ]
  },
  {
   "cell_type": "markdown",
   "id": "a11c641f-1a93-4e1f-a10f-c9d0dc603a03",
   "metadata": {},
   "source": [
    "(c) Reordena las ecuaciones de tal forma que convergan a una solución con el método de relajación y que la solución coincide con el inciso (a)"
   ]
  },
  {
   "cell_type": "markdown",
   "id": "2825869c-17a6-4549-8348-ed23733c6824",
   "metadata": {},
   "source": [
    "Sean las ecuaciones reordenadas\n",
    "\\begin{align}\n",
    "    x&=\\sqrt{\\frac{b}{y}-a}\\\\\n",
    "    y&=\\frac{x}{a+x^{2}}\n",
    "\\end{align}"
   ]
  },
  {
   "cell_type": "code",
   "execution_count": 177,
   "id": "d2f61a60-9a47-4678-ab49-5d3365d817e3",
   "metadata": {},
   "outputs": [
    {
     "name": "stdout",
     "output_type": "stream",
     "text": [
      "n= 0 x= 1.0 y= 0.5\n",
      "----------------\n",
      "n= 1 x= 1.7320508075688772 y= 0.43301270189221935\n",
      "----------------\n",
      "n= 2 x= 1.902314945932194 y= 0.4118632672940252\n",
      "----------------\n",
      "n= 3 x= 1.9636650714924069 y= 0.40438075610800917\n",
      "----------------\n",
      "n= 4 x= 1.9864122863201303 y= 0.40163345114218674\n",
      "----------------\n",
      "n= 5 x= 1.9949097477571613 y= 0.400611243354449\n",
      "----------------\n",
      "n= 6 x= 1.9980918687165672 y= 0.4002290339314792\n",
      "----------------\n",
      "n= 7 x= 1.9992845505793713 y= 0.40008586211625663\n",
      "----------------\n",
      "n= 8 x= 1.9997317204769791 y= 0.40003219469412865\n",
      "----------------\n",
      "n= 9 x= 1.9998993971476058 y= 0.40001207250421084\n",
      "----------------\n",
      "n= 10 x= 1.9999622742071335 y= 0.4000045271179152\n",
      "----------------\n",
      "n= 11 x= 1.9999858528665935 y= 0.400001697659211\n",
      "----------------\n",
      "n= 12 x= 1.9999946948304455 y= 0.4000006366207968\n",
      "----------------\n",
      "n= 13 x= 1.9999980105621868 y= 0.40000023873260093\n",
      "----------------\n",
      "n= 14 x= 1.9999992539609281 y= 0.40000008952469757\n",
      "----------------\n",
      "n= 15 x= 1.9999997202353632 y= 0.4000000335717577\n",
      "----------------\n",
      "n= 16 x= 1.9999998950882634 y= 0.4000000125894086\n",
      "----------------\n",
      "n= 17 x= 1.999999960658099 y= 0.4000000047210282\n",
      "----------------\n",
      "n= 18 x= 1.9999999852467871 y= 0.4000000017703856\n",
      "----------------\n",
      "n= 19 x= 1.999999994467545 y= 0.4000000006638946\n",
      "----------------\n",
      "n= 20 x= 1.9999999979253296 y= 0.40000000024896043\n",
      "----------------\n",
      "n= 21 x= 1.9999999992219986 y= 0.4000000000933602\n",
      "----------------\n",
      "n= 22 x= 1.9999999997082494 y= 0.4000000000350101\n",
      "----------------\n",
      "n= 23 x= 1.9999999998905935 y= 0.4000000000131288\n",
      "----------------\n",
      "n= 24 x= 1.9999999999589726 y= 0.4000000000049233\n",
      "----------------\n",
      "n= 25 x= 1.9999999999846148 y= 0.4000000000018462\n",
      "----------------\n",
      "n= 26 x= 1.9999999999942306 y= 0.4000000000006923\n",
      "----------------\n",
      "n= 27 x= 1.9999999999978366 y= 0.4000000000002596\n",
      "----------------\n",
      "n= 28 x= 1.9999999999991889 y= 0.40000000000009733\n",
      "----------------\n",
      "n= 29 x= 1.9999999999996958 y= 0.4000000000000365\n",
      "----------------\n",
      "n= 30 x= 1.9999999999998859 y= 0.4000000000000137\n",
      "----------------\n",
      "n= 31 x= 1.9999999999999574 y= 0.40000000000000513\n",
      "----------------\n",
      "n= 32 x= 1.999999999999984 y= 0.4000000000000019\n",
      "----------------\n",
      "n= 33 x= 1.999999999999994 y= 0.40000000000000074\n",
      "----------------\n",
      "n= 34 x= 1.9999999999999978 y= 0.40000000000000024\n",
      "----------------\n",
      "n= 35 x= 1.9999999999999993 y= 0.4000000000000001\n",
      "----------------\n",
      "n= 36 x= 1.9999999999999998 y= 0.4\n",
      "----------------\n",
      "n= 37 x= 2.0 y= 0.4\n",
      "----------------\n"
     ]
    }
   ],
   "source": [
    "a=1\n",
    "b=2\n",
    "x0=1\n",
    "y0=1\n",
    "\n",
    " \n",
    "for i in range(38):\n",
    "    x=np.sqrt((b/y0)-a)\n",
    "    x0=x\n",
    "    y=x0/(a+x0**2)\n",
    "    y0=y\n",
    "    print('n=',i,'x=',x0,'y=',y0)\n",
    "    print('----------------')"
   ]
  },
  {
   "cell_type": "markdown",
   "id": "4d349178-e0f3-4ebd-af27-6955934617db",
   "metadata": {},
   "source": [
    "con esta nueva reordenación, coincidimos con la solución analítica donde $x=b=2$ y $y=0.4$"
   ]
  },
  {
   "cell_type": "markdown",
   "id": "e1d556e0-d01d-4ac3-9e82-c61e4c775577",
   "metadata": {
    "jp-MarkdownHeadingCollapsed": true
   },
   "source": [
    "# Problema 5"
   ]
  },
  {
   "cell_type": "markdown",
   "id": "09afcc1a-46c9-4cd1-a3b2-4687623148fc",
   "metadata": {},
   "source": [
    "\\begin{equation}\n",
    "    I(\\lambda)=\\frac{2\\pi hc^{2}\\lambda^{-5}}{e^{hc/\\lambda k_{B}T}-1}\n",
    "    \\end{equation}"
   ]
  },
  {
   "cell_type": "markdown",
   "id": "93eced0e-d627-4c6f-8cf8-339b474599a9",
   "metadata": {},
   "source": [
    "(b) La ecuación no lineal es $5e^{-x}+x-5=0$, escribe un programa para resolver esta ecuacion con una presicion de $\\epsilon=10^{-6}$ usando el metodo de busqueda binaria y así, encuentra un valor para la constante de desplazamineto."
   ]
  },
  {
   "cell_type": "code",
   "execution_count": 2,
   "id": "3eca383b-729d-41fd-91ad-24023559bda5",
   "metadata": {
    "scrolled": true
   },
   "outputs": [
    {
     "data": {
      "image/png": "[encoded data removed]",
      "text/plain": [
       "<Figure size 640x480 with 1 Axes>"
      ]
     },
     "metadata": {},
     "output_type": "display_data"
    }
   ],
   "source": [
    "### primero graficamos la funcion para obtener una idea de los puntos donde podemos encontrar el cero.\n",
    "def f5(x):\n",
    "    return 5*np.exp(-x)+x-5\n",
    "    \n",
    "x=np.linspace(-1,10,1000)\n",
    "plt.plot(x,f5(x),color='blue')\n",
    "plt.hlines(y=0,xmin=-2,xmax=10,color='black')\n",
    "plt.grid(True)"
   ]
  },
  {
   "cell_type": "code",
   "execution_count": 5,
   "id": "3993811b-3588-440a-8d4d-a0d7f7031c30",
   "metadata": {},
   "outputs": [],
   "source": [
    "#### Hacemos el programa para el metódo de bisección\n",
    "def biseccion(f,a,b,N):\n",
    "    p=0\n",
    "    x0=a+(b-a)/2\n",
    "    f1=f(x0)\n",
    "    if f1==0:\n",
    "        return f1\n",
    "    else:\n",
    "        while p < N:\n",
    "            if f1*f(a) > 0:\n",
    "                a=x0\n",
    "                x0=a+(b-a)/2\n",
    "                f1=f(x0)\n",
    "            elif f1*f(a) < 0:\n",
    "                b=x0\n",
    "                x0=b-(b-a)/2\n",
    "                f1=f(x0)\n",
    "            p=p+1\n",
    "    return x0"
   ]
  },
  {
   "cell_type": "code",
   "execution_count": 6,
   "id": "c5f883a6-1d9b-46cd-b4c5-42d1ef0503ed",
   "metadata": {},
   "outputs": [
    {
     "name": "stdout",
     "output_type": "stream",
     "text": [
      "primera raiz, x= 0.0\n",
      "segunda raiz, x= 4.965114231744276\n"
     ]
    }
   ],
   "source": [
    "print('primera raiz, x=',biseccion(f5,-1,1,100))\n",
    "print('segunda raiz, x=',biseccion(f5,4,6,100))"
   ]
  },
  {
   "cell_type": "markdown",
   "id": "ea636867-8d07-4c3e-b49d-29442c08320d",
   "metadata": {},
   "source": [
    "La constante de desplazamiento de Wien es:\n",
    "\\begin{equation}\n",
    "    b=\\frac{hc}{K_Bx}\n",
    "\\end{equation}\n",
    "Con x la solución de la ecuación lineal, por lo que $x=0$ no puede ser solucion, entonces tomamos $x=4.96$"
   ]
  },
  {
   "cell_type": "code",
   "execution_count": 14,
   "id": "aa090384-9528-4468-960f-5c43b0b93301",
   "metadata": {},
   "outputs": [
    {
     "name": "stdout",
     "output_type": "stream",
     "text": [
      "La constante de desplazamiento es b= 0.0029027679879231176 mk\n"
     ]
    }
   ],
   "source": [
    "### la constante de desplazamiento es:\n",
    "h=6.62607015e-34\n",
    "k=1.380649e-23\n",
    "c=3e8\n",
    "b=h*c/(k*4.96)\n",
    "print('La constante de desplazamiento es b=',b,'mk')"
   ]
  },
  {
   "cell_type": "markdown",
   "id": "e4809ba1-210f-42e1-a7cc-7b0c56ac9c39",
   "metadata": {},
   "source": [
    "(c) El pico de longitud de onda en la radiación emitida por el sol cae en $\\lambda=502nm$. A partir de las ecuaciones anteriores y el valor de la constante de desplazamiento, estima la temperatura de la superficie del sol."
   ]
  },
  {
   "cell_type": "code",
   "execution_count": 15,
   "id": "2c2762f4-595a-4d18-a64c-7f4fa1d6f86b",
   "metadata": {},
   "outputs": [
    {
     "name": "stdout",
     "output_type": "stream",
     "text": [
      "La temperatura del sol es T= 5782.406350444457 k\n"
     ]
    }
   ],
   "source": [
    "print('La temperatura del sol es T=',b/502e-9,'k')"
   ]
  },
  {
   "cell_type": "code",
   "execution_count": null,
   "id": "88f91cfb-6857-4bf2-95e2-a5b2b04ed3d3",
   "metadata": {},
   "outputs": [],
   "source": []
  },
  {
   "cell_type": "markdown",
   "id": "cc3979f4-ce84-411f-ac00-9bb33fbc1fd0",
   "metadata": {},
   "source": [
    "# Problema 6"
   ]
  },
  {
   "cell_type": "markdown",
   "id": "22acca8d-703b-4a95-b390-4d481f890156",
   "metadata": {},
   "source": [
    "(b) Has un programa utilizando el método de Newton para resolver la ecuacion la distancia r desde la Tierra hasta el punto $L_1$\n",
    "\\begin{equation}\n",
    "    \\frac{GM}{r^{2}}-\\frac{GM}{(R-r)^{2}}=\\omega^{2}r\n",
    "\\end{equation}\n",
    "con\n",
    "\\begin{align}\n",
    "    G&=6.674\\times 10^{-11}m^{3}kg^{-1}s^{-2}\\\\\n",
    "    M&=5.974\\times 10^{24}kg\\\\\n",
    "    m&=7.348\\times 10^{22}kg\\\\\n",
    "    R&=3.844\\times 10^{8}m\\\\\n",
    "    \\omega&=2.662\\times 10^{-6}s^{-1}\n",
    "\\end{align}"
   ]
  },
  {
   "cell_type": "code",
   "execution_count": 22,
   "id": "fdac6519-a8e8-431f-9580-b51174295753",
   "metadata": {},
   "outputs": [],
   "source": [
    "### Graficamos la funcion para darnos una idea de donde podria estar el cero\n",
    "G=6.674e-11\n",
    "M=5.974e24\n",
    "m=7.348e22\n",
    "R=3.844e8\n",
    "w=2.662e-6\n",
    "\n",
    "def lagrange(x):\n",
    "    return (G*M/(x**2))-(G*m/((R-x)**2))-(x*w**2)\n",
    "def d_lagrange(x):\n",
    "    return (-2*G*M/x**3)-(2*G*m/(R-x)**3)-w**2\n",
    "    \n",
    "def Newton(f,df,x0,N):\n",
    "    n=0\n",
    "    while n<N:\n",
    "        x=x0-(f(x0)/df(x0))\n",
    "        x0=x\n",
    "        n+=1\n",
    "    return x"
   ]
  },
  {
   "cell_type": "code",
   "execution_count": 24,
   "id": "fa376515-8fa3-4cbf-b3b8-5859c86e9ebb",
   "metadata": {},
   "outputs": [
    {
     "name": "stdout",
     "output_type": "stream",
     "text": [
      "La distancia r de la Tierra al punto L1 es: 326045071.66535544\n"
     ]
    }
   ],
   "source": [
    "print('La distancia r de la Tierra al punto L1 es:',Newton(lagrange,d_lagrange,10000,100))"
   ]
  },
  {
   "cell_type": "markdown",
   "id": "878ace47-ec41-4b35-8eaf-ab1c7c38a1e8",
   "metadata": {},
   "source": [
    "Resolviendo la ecución para $r$ vemos que la distancia de la tierra al punto de Lagrange es $326,045,071.66m=326,045.071km$"
   ]
  },
  {
   "cell_type": "code",
   "execution_count": null,
   "id": "bbf8a83a-1983-4103-a687-998ed0b66871",
   "metadata": {},
   "outputs": [],
   "source": []
  }
 ],
 "metadata": {
  "kernelspec": {
   "display_name": "Python 3 (ipykernel)",
   "language": "python",
   "name": "python3"
  },
  "language_info": {
   "codemirror_mode": {
    "name": "ipython",
    "version": 3
   },
   "file_extension": ".py",
   "mimetype": "text/x-python",
   "name": "python",
   "nbconvert_exporter": "python",
   "pygments_lexer": "ipython3",
   "version": "3.10.12"
  }
 },
 "nbformat": 4,
 "nbformat_minor": 5
}
