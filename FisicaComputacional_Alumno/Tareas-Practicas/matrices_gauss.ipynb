{
 "cells": [
  {
   "cell_type": "code",
   "execution_count": 4,
   "id": "82ace837-975c-4042-9b60-7c2b07c13ef6",
   "metadata": {},
   "outputs": [],
   "source": [
    "import numpy as np"
   ]
  },
  {
   "cell_type": "code",
   "execution_count": 24,
   "id": "b18ea3ce-f70c-4979-b194-0670edeaf11e",
   "metadata": {},
   "outputs": [],
   "source": [
    "def eliminacion_gaussiana(A):\n",
    "    if np.shape(A[0]) != np.shape(A[1]):\n",
    "        print(\"La matriz debe ser cuadrada\")\n",
    "    elif A[0,0]==0:\n",
    "        c=A[0]\n",
    "        i=0\n",
    "        while A[i,0] == 0:\n",
    "            i+=1\n",
    "    \n",
    "        b=A[i+1]\n",
    "        A[0]=b\n",
    "        A[i+1]=c\n",
    "    else:\n",
    "        for i in range(len((A))):\n",
    "            for j in range(i+1,len((A))):\n",
    "                #print(A)\n",
    "                #print('----------------------')\n",
    "                A[i,:]=A[i,:]/A[i,i]\n",
    "                #print(A)\n",
    "                #print('-----------------------')\n",
    "                A[j,:]=A[j,:]-(A[j,i]*A[i,:])\n",
    "    return A"
   ]
  },
  {
   "cell_type": "code",
   "execution_count": 25,
   "id": "9a6169f9-399a-4b7e-883b-81df49455a5a",
   "metadata": {},
   "outputs": [
    {
     "name": "stdout",
     "output_type": "stream",
     "text": [
      "[[ 1.   0.5  2.   0.5]\n",
      " [ 0.   1.  -2.8 -1. ]\n",
      " [-0.  -0.   1.  -0. ]\n",
      " [ 0.   0.   0.  -1. ]]\n"
     ]
    }
   ],
   "source": [
    "a=np.array([[2,1,4,1],[3,4,-1,-1],[1,-4,1,5],[2,-2,1,3]],float)\n",
    "#b=np.array([[2,1,4,1],[3,4,-1,-1],[1,-4,1,5],[2,-2,1,3]])\n",
    "A=eliminacion_gaussiana(a)\n",
    "print(a)\n",
    "#B=eliminacion_gaussiana(b)"
   ]
  },
  {
   "cell_type": "code",
   "execution_count": null,
   "id": "65c6d306-ed93-46e0-8095-2ed596eabb26",
   "metadata": {},
   "outputs": [],
   "source": []
  }
 ],
 "metadata": {
  "kernelspec": {
   "display_name": "Python 3 (ipykernel)",
   "language": "python",
   "name": "python3"
  },
  "language_info": {
   "codemirror_mode": {
    "name": "ipython",
    "version": 3
   },
   "file_extension": ".py",
   "mimetype": "text/x-python",
   "name": "python",
   "nbconvert_exporter": "python",
   "pygments_lexer": "ipython3",
   "version": "3.10.12"
  }
 },
 "nbformat": 4,
 "nbformat_minor": 5
}
